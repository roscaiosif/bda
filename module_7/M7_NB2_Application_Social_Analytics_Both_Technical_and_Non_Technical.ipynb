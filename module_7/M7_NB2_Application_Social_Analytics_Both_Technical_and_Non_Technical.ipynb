{
 "cells": [
  {
   "cell_type": "markdown",
   "metadata": {},
   "source": [
    "<div align=\"right\">Python 2.7 Jupyter Notebook</div>\n",
    "\n",
    "# Application of Social Analytics\n",
    "<br>\n",
    "<div class=\"alert alert-warning\">\n",
    "<b>This notebook should be opened and completed by students completing both the technical and non-technical tracks of this course.</b>\n",
    "</div>\n",
    "\n",
    "### Your completion of the notebook exercises will be graded based on your ability to:\n",
    "\n",
    "> **Understand**: Does your pseudo-code and/or comments show evidence that you recall and understand technical concepts?\n",
    "\n",
    "> **Evaluate**: Are you able to interpret the results and justify your interpretation based on the observed data?\n",
    "\n",
    "\n",
    "# Introduction\n",
    "In this notebook, you will explore additional case studies and papers that deal with the application of social analytics in practice.\n",
    "\n",
    "The collection of multi-modal and diverse ranges of signals allows us to better understand network modalities and surface patterns that are difficult to observe or extract from noisy or dirty data. Populations, and the patterns they exhibit, are complex by definition, and there is no single one-size-fits-all method to approach the different studies. You would typically start your study with physical sensors, before extending your data set with social and other data to better understand the community or group being studied. In many cases, it is difficult to motivate for large-scale data collection processes to be initiated, but data generated for other purposes can be reused to build and extend analyses. Data from the telecommunications industry is a rich source of insight into human behavior and has been found to be useful in a wide range of topics across multiple fields. This notebook briefly looks at some of these use cases. Using data generated as output of other processes introduces risks (such as changes in the processes that generate the data), but offers the ability to perform analyses that were not previously possible.\n",
    "\n",
    "> **Note**:\n",
    "\n",
    "> The application of many of the concepts in this course is non-trivial and very specific to the use case at hand. You can refer to [this](http://www.pnas.org/content/early/2016/08/22/1602803113.full) article, which describes a theoretical framework, to better understand the fundamental structures of dynamic social networks.\n"
   ]
  },
  {
   "cell_type": "markdown",
   "metadata": {},
   "source": [
    "# 1. Healthcare\n",
    "\n",
    "**Human mobility** offers insights into the spreading of disease as well as the ability to identify potential points of origin of diseases. You can read more about two such studies (one already introduced in the video content) below:\n",
    "\n",
    "- Studying the spread of Malaria in Kenya:\n",
    "    - [Using cell phone data to curb the spread of malaria](https://www.hsph.harvard.edu/news/press-releases/cell-phone-data-malaria/)\n",
    "    - [Quantifying travel behavior for infectious disease research: a comparison of data from surveys and mobile phones](http://www.nature.com/articles/srep05678)\n",
    "\n",
    "- Studying the spread of Ebola in Senegal:\n",
    "    - [Cell-Phone Data Might Help Predict Ebola’s Spread](https://www.technologyreview.com/s/530296/cell-phone-data-might-help-predict-ebolas-spread/)\n",
    "\n",
    "Known data sets can also be used to modify the concept of distance by looking at the number (weight) of people traveling between cities to create an effective distance between locations. This defined value can be used in epidemiological studies to not only predict the spread of contagions, but also to attempt to identify points of origin (based on the same effective distance from all of the locations where the contagion is observed).\n",
    "\n",
    "In the video resource, you were provided with a link to an [interactive tool](http://rocs.hu-berlin.de/interactive/page40/index.html), created by Dirk Brockmann, which displays a view of the world based on effective distances. This tool is based on the [article](http://rocs.hu-berlin.de/complex_sys_2015/resources/Seminarpapers/Hidden_geometry_2013.pdf) titled “The Hidden Geometry of Complex, Network-Driven Contagion Phenomena” (Brockmann and Helbing 2013), and has been included here for students wishing to further explore the concept of effective distance."
   ]
  },
  {
   "cell_type": "markdown",
   "metadata": {},
   "source": [
    "<div class=\"alert alert-info\">\n",
    "<b>Exercise 1 Start.</b>\n",
    "</div>\n",
    "\n",
    "### Instructions\n",
    "It is important to ensure that your dataset is representative of the observations made, and is relevant to the question being analyzed. The “Friends and Family” study uses multi-modal datasets, and you have been supplied with additional examples of data sets utilized in other studies. Physical data, sensor data or survey data can be difficult or expensive to obtain. Although social data may be easier to obtain, it carries inherent risks. Please answer the following two questions on a hypothetical healthcare case using data from social sources as the main input.\n",
    "\n",
    "> a) Are all individuals with high centrality in social networks good candidates for vaccination in a healthcare intervention?\n",
    "\n",
    "> b) What is the most important physical aspect that needs to be accounted for or validated?"
   ]
  },
  {
   "cell_type": "markdown",
   "metadata": {},
   "source": [
    "Your markdown answer here."
   ]
  },
  {
   "cell_type": "markdown",
   "metadata": {},
   "source": [
    "<br>\n",
    "<div class=\"alert alert-info\">\n",
    "<b>Exercise 1 End.</b>\n",
    "</div>\n",
    "\n",
    "> **Exercise complete**:\n",
    "    \n",
    "> This is a good time to \"Save and Checkpoint\"."
   ]
  },
  {
   "cell_type": "markdown",
   "metadata": {},
   "source": [
    "<br>\n",
    "<div class=\"alert alert-info\">\n",
    "<b>Exercise 2 Start.</b>\n",
    "</div>\n",
    "\n",
    "### Instructions\n",
    "\n",
    "> **Review** the [article](http://gking.harvard.edu/files/gking/files/0314policyforumff.pdf) titled “The Parable of Google Flu: Traps in Big Data Analysis”.\n",
    "\n",
    "> a) What was the premise underlying Google Flu Trends (GFT), a program designed by Google for real-time monitoring of flu cases around the world?\n",
    "\n",
    "> b) What went wrong with GFT between 2011 and 2013?\n",
    "\n",
    "> c) Considering that GFT is based on searches of words related to flu, can you describe what this means when using big data to explain reality. (Hint: Keep Professor Pentland’s comments on correlation and prediction from earlier modules in mind.)\n",
    "\n",
    "> d) How can the GFT model be improved?"
   ]
  },
  {
   "cell_type": "markdown",
   "metadata": {},
   "source": [
    "Your markdown answer here."
   ]
  },
  {
   "cell_type": "markdown",
   "metadata": {},
   "source": [
    "<br>\n",
    "<div class=\"alert alert-info\">\n",
    "<b>Exercise 2 End.</b>\n",
    "</div>\n",
    "\n",
    "> **Exercise complete**:\n",
    "    \n",
    "> This is a good time to \"Save and Checkpoint\".\n",
    "\n",
    "<br>\n",
    "<div class=\"alert alert-warning\">\n",
    "<b>Note</b>: Advanced students who wish to gain a better understanding of how clustering models can be used to study the transmission of contagions can refer to [this](http://cktse.eie.polyu.edu.hk/pdf-paper/PhysicaA-0503.pdf) article.\n",
    "</div>"
   ]
  },
  {
   "cell_type": "markdown",
   "metadata": {},
   "source": [
    "# 2. Human resources\n",
    "\n",
    "In his explanation of how big data may be applied in Human Resources (HR), Arek Stopczynski discusses sociometric badges, face-to-face contact, and privacy considerations.\n",
    "\n",
    "Big data studies that have appropriate interventions can play a significant role in ensuring a more effective, productive, and happy workforce. These studies are typically very sensitive to privacy considerations due to the short time frame between observation and potential impact.\n",
    "\n",
    "## 2.1 Privacy\n",
    "In Video 2, Arek also asks whether or not you care (or should care) if a random company knows where you are at any given point in time, (for example, a free application on your cellphone requiring location data) and whether your feelings would change if it was the company you work for that knows where you are. Many applications where you share your data can also be used to gain insights into aspects of your life that you may not be comfortable sharing with your employer. This is because some of these insights can be taken out of context resulting in privacy violations and subsequent loss of trust. Consider [Pokemon Go](https://www.reffind.com/pokemon-go-says-employees/) as an application that can potentially be used to gain insights about you.\n",
    "\n",
    "## 2.2 Trust\n",
    "A recent talk by one of Gartner’s analysts, Frank Buytendijk, stated that trust is an emotion. He said, “It is the confidence people have in your future behavior” (Gartner 2015). He then went on to say that “algorithms allow companies to trust people to the exact level they deserve: dynamically and at scale. Trust goes two ways. People must trust your business too, to connect to you. It is the confidence people have in your future behavior” (Gartner 2015).\n",
    "\n",
    "You can read more about the topic on Page 11 of [this](http://gartnerinfo.com/sym25/rising_to_the_challenge_of_d_290064.pdf) Gartner report.\n",
    "\n",
    "**The five key dynamics to trust are**:\n",
    "* Structure and clarity;\n",
    "* Psychological safety;\n",
    "* Dependability;\n",
    "* Meaning; and\n",
    "* Impact.\n",
    "\n",
    "Those who are interested in exploring additional material on trust can review the following two articles:\n",
    "1. [Out of sight, short of trust](http://www.academia.edu/2887790/Out_of_sight_short_of_trust._Elena_Rocco_Thomas_A._Finholt_and_Erik_C._Hofer_Collaboratory_for_Research_on_Electronic_Work_School_of_Information_University_of_Michigan)\n",
    "2. [Building Trust in High-Performing Teams](http://timreview.ca/sites/default/files/article_PDF/HakanenSoudunsaari_TIMReview_June2012.pdf)\n",
    "\n",
    "Once you are in a trusted relationship with employees, you can start to analyze interesting questions such as “do teams have intelligence?”.\n",
    "\n",
    "This question has been answered by [Anita Woolley et al.](http://science.sciencemag.org/content/330/6004/686.full) (2010), and was covered by Arek Stopczynski in Video 2.\n",
    "\n",
    "Understanding trust and the interactions in networks allow us to make optimal use of available technologies, structures, and teams; and to build more effective and productive virtual teams. Before considering the potential interventions that you can apply in your particular industry, you can review the article “[Getting Virtual Teams Right](https://hbr.org/2014/12/getting-virtual-teams-right)” for more information on this topic."
   ]
  },
  {
   "cell_type": "markdown",
   "metadata": {},
   "source": [
    "# 3. Finance and marketing\n",
    "## 3.1 Individual financial well-being and creditworthiness\n",
    "Traditional use of data in the financial industry focused on age, gender, job type, and marital status. This use was oblivious to spatial temporal data and habits of individuals. In Videos 3 and 4, Xiaowen Dong discusses a number of applications of big data in the financial and marketing industries. Many of the topics are relevant to many organizations as these are core activities in most organizations.\n",
    "\n",
    "> **Note**:\n",
    "\n",
    "> You can read more about financial big data analysis for estimation of systemic risks [here](http://economia.unipv.it/docs/dipeco/quad/ps/RePEc/pav/demwpp/DEMWP0086.pdf).\n",
    "\n",
    "A number of initiatives and companies have found ways of using available data sources to build alternative models for assessing credit worthiness that are not based on credit bureau data. These [initiatives](https://www.whitehouse.gov/sites/default/files/microsites/ostp/2016_0504_data_discrimination.pdf) range from government initiatives to creating products in developing countries (for example, “[promoting financial inclusion](http://blogs.worldbank.org/psd/promoting-financial-inclusion-is-mobile-money-the-magic-bullet)”, “[filling the gaps between financial access and financial inclusion](https://www.devex.com/news/filling-the-gaps-between-financial-access-and-financial-inclusion-88036)”, and “[Big data, small credit](https://www.omidyar.com/sites/default/files/file_archive/insights/Big%20Data,%20Small%20Credit%20Report%202015/BDSC_Digital%20Final_RV.pdf)”) to provide access to communities that did not have access to these services. You can read more about using call data to tap into the low-income customer base through mobile phones [here](https://www.microfinancegateway.org/library/mobile-phone-data-key-promoting-financial-inclusion)."
   ]
  },
  {
   "cell_type": "markdown",
   "metadata": {},
   "source": [
    "<br>\n",
    "<div class=\"alert alert-info\">\n",
    "<b>Exercise 3 Start.</b>\n",
    "</div>\n",
    "\n",
    "### Instructions\n",
    "\n",
    "> **Review** the [article](http://news.mit.edu/2016/using-new-models-big-data-to-better-understand-financial-risk-0411) titled \"Using new models and big data to better understand financial risk\".\n",
    "\n",
    "> a) What fundamental observation regarding financial outcomes allows you to gain insights and build products for individuals based on mobile data? (**Note**: Your answer can be a single statement from the referenced article or you can describe it in your own words based on the content presented in this course.)\n",
    "\n",
    "> b) Traditional credit assessments typically build models across three dimensions of an individual, namely affordability, stability, and willingness (to pay back). How can these three characteristics be defined based on mobile metadata? In your answer, consider what you have learned regarding social network analysis and predictive modeling using Bandicoot features.\n",
    "\n",
    "> c) What other sources of data (excluding credit bureau data) can be considered to improve these alternative creditworthiness assessment models based only on mobile pattern behavior?\n",
    "\n",
    "> d) What major risk(s) can you think of when credit assessment models are built using only mobile metadata? (Refer to the earlier discussion on GFT for hints)"
   ]
  },
  {
   "cell_type": "markdown",
   "metadata": {},
   "source": [
    "Your markdown answer here."
   ]
  },
  {
   "cell_type": "markdown",
   "metadata": {},
   "source": [
    "<br>\n",
    "<div class=\"alert alert-info\">\n",
    "<b>Exercise 3 End.</b>\n",
    "</div>\n",
    "\n",
    "> **Exercise complete**:\n",
    "    \n",
    "> This is a good time to \"Save and Checkpoint\"."
   ]
  },
  {
   "cell_type": "markdown",
   "metadata": {
    "collapsed": true
   },
   "source": [
    "# 4. Submit your notebook\n",
    "\n",
    "Please make sure that you:\n",
    "- Perform a final \"Save and Checkpoint\";\n",
    "- Download a copy of the notebook in \".ipynb\" format to your local machine using \"File\", \"Download as\", and \"IPython Notebook (.ipynb)\"; and\n",
    "- Submit a copy of this file to the Online Campus."
   ]
  },
  {
   "cell_type": "markdown",
   "metadata": {
    "collapsed": true
   },
   "source": [
    "# 5. References\n",
    "Gartner. 2015. “Gartner Says the Economics of Connections in Digital Business are Accelerating by the Use of Algorithms.” Last modified October 5. http://www.gartner.com/newsroom/id/3142918. "
   ]
  },
  {
   "cell_type": "code",
   "execution_count": null,
   "metadata": {
    "collapsed": true
   },
   "outputs": [],
   "source": []
  }
 ],
 "metadata": {
  "kernelspec": {
   "display_name": "Python [Root]",
   "language": "python",
   "name": "Python [Root]"
  },
  "language_info": {
   "codemirror_mode": {
    "name": "ipython",
    "version": 2
   },
   "file_extension": ".py",
   "mimetype": "text/x-python",
   "name": "python",
   "nbconvert_exporter": "python",
   "pygments_lexer": "ipython2",
   "version": "2.7.12"
  }
 },
 "nbformat": 4,
 "nbformat_minor": 0
}
